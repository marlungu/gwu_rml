{
  "nbformat": 4,
  "nbformat_minor": 0,
  "metadata": {
    "colab": {
      "provenance": [],
      "authorship_tag": "ABX9TyOC+jTPqVfD/h+WBaPccGT9",
      "include_colab_link": true
    },
    "kernelspec": {
      "name": "python3",
      "display_name": "Python 3"
    },
    "language_info": {
      "name": "python"
    }
  },
  "cells": [
    {
      "cell_type": "markdown",
      "metadata": {
        "id": "view-in-github",
        "colab_type": "text"
      },
      "source": [
        "<a href=\"https://colab.research.google.com/github/marlungu/gwu_rml/blob/main/Assignment_4.ipynb\" target=\"_parent\"><img src=\"https://colab.research.google.com/assets/colab-badge.svg\" alt=\"Open In Colab\"/></a>"
      ]
    },
    {
      "cell_type": "markdown",
      "source": [
        "## Imports and inits"
      ],
      "metadata": {
        "id": "CGyOIn5b7zuC"
      }
    },
    {
      "cell_type": "code",
      "execution_count": 29,
      "metadata": {
        "colab": {
          "base_uri": "https://localhost:8080/",
          "height": 695
        },
        "id": "QKdsQNVw0pUx",
        "outputId": "398aff54-d91c-4dcc-9093-48278959d798"
      },
      "outputs": [
        {
          "output_type": "stream",
          "name": "stdout",
          "text": [
            "Looking in indexes: https://pypi.org/simple, https://us-python.pkg.dev/colab-wheels/public/simple/\n",
            "Requirement already satisfied: h2o in /usr/local/lib/python3.10/dist-packages (3.40.0.4)\n",
            "Requirement already satisfied: requests in /usr/local/lib/python3.10/dist-packages (from h2o) (2.27.1)\n",
            "Requirement already satisfied: tabulate in /usr/local/lib/python3.10/dist-packages (from h2o) (0.8.10)\n",
            "Requirement already satisfied: future in /usr/local/lib/python3.10/dist-packages (from h2o) (0.18.3)\n",
            "Requirement already satisfied: urllib3<1.27,>=1.21.1 in /usr/local/lib/python3.10/dist-packages (from requests->h2o) (1.26.15)\n",
            "Requirement already satisfied: certifi>=2017.4.17 in /usr/local/lib/python3.10/dist-packages (from requests->h2o) (2022.12.7)\n",
            "Requirement already satisfied: charset-normalizer~=2.0.0 in /usr/local/lib/python3.10/dist-packages (from requests->h2o) (2.0.12)\n",
            "Requirement already satisfied: idna<4,>=2.5 in /usr/local/lib/python3.10/dist-packages (from requests->h2o) (3.4)\n",
            "Checking whether there is an H2O instance running at http://localhost:54321..... not found.\n",
            "Attempting to start a local H2O server...\n",
            "  Java Version: openjdk version \"11.0.19\" 2023-04-18; OpenJDK Runtime Environment (build 11.0.19+7-post-Ubuntu-0ubuntu120.04.1); OpenJDK 64-Bit Server VM (build 11.0.19+7-post-Ubuntu-0ubuntu120.04.1, mixed mode, sharing)\n",
            "  Starting server from /usr/local/lib/python3.10/dist-packages/h2o/backend/bin/h2o.jar\n",
            "  Ice root: /tmp/tmpt9vanodc\n",
            "  JVM stdout: /tmp/tmpt9vanodc/h2o_unknownUser_started_from_python.out\n",
            "  JVM stderr: /tmp/tmpt9vanodc/h2o_unknownUser_started_from_python.err\n",
            "  Server is running at http://127.0.0.1:54321\n",
            "Connecting to H2O server at http://127.0.0.1:54321 ... successful.\n"
          ]
        },
        {
          "output_type": "display_data",
          "data": {
            "text/plain": [
              "--------------------------  -----------------------------------------------------------------------------------------\n",
              "H2O_cluster_uptime:         04 secs\n",
              "H2O_cluster_timezone:       Etc/UTC\n",
              "H2O_data_parsing_timezone:  UTC\n",
              "H2O_cluster_version:        3.40.0.4\n",
              "H2O_cluster_version_age:    1 month and 23 days\n",
              "H2O_cluster_name:           H2O_from_python_unknownUser_s6bhyq\n",
              "H2O_cluster_total_nodes:    1\n",
              "H2O_cluster_free_memory:    2 Gb\n",
              "H2O_cluster_total_cores:    2\n",
              "H2O_cluster_allowed_cores:  2\n",
              "H2O_cluster_status:         locked, healthy\n",
              "H2O_connection_url:         http://127.0.0.1:54321\n",
              "H2O_connection_proxy:       {\"http\": null, \"https\": null, \"colab_language_server\": \"/usr/colab/bin/language_service\"}\n",
              "H2O_internal_security:      False\n",
              "Python_version:             3.10.12 final\n",
              "--------------------------  -----------------------------------------------------------------------------------------"
            ],
            "text/html": [
              "\n",
              "<style>\n",
              "\n",
              "#h2o-table-4.h2o-container {\n",
              "  overflow-x: auto;\n",
              "}\n",
              "#h2o-table-4 .h2o-table {\n",
              "  /* width: 100%; */\n",
              "  margin-top: 1em;\n",
              "  margin-bottom: 1em;\n",
              "}\n",
              "#h2o-table-4 .h2o-table caption {\n",
              "  white-space: nowrap;\n",
              "  caption-side: top;\n",
              "  text-align: left;\n",
              "  /* margin-left: 1em; */\n",
              "  margin: 0;\n",
              "  font-size: larger;\n",
              "}\n",
              "#h2o-table-4 .h2o-table thead {\n",
              "  white-space: nowrap; \n",
              "  position: sticky;\n",
              "  top: 0;\n",
              "  box-shadow: 0 -1px inset;\n",
              "}\n",
              "#h2o-table-4 .h2o-table tbody {\n",
              "  overflow: auto;\n",
              "}\n",
              "#h2o-table-4 .h2o-table th,\n",
              "#h2o-table-4 .h2o-table td {\n",
              "  text-align: right;\n",
              "  /* border: 1px solid; */\n",
              "}\n",
              "#h2o-table-4 .h2o-table tr:nth-child(even) {\n",
              "  /* background: #F5F5F5 */\n",
              "}\n",
              "\n",
              "</style>      \n",
              "<div id=\"h2o-table-4\" class=\"h2o-container\">\n",
              "  <table class=\"h2o-table\">\n",
              "    <caption></caption>\n",
              "    <thead></thead>\n",
              "    <tbody><tr><td>H2O_cluster_uptime:</td>\n",
              "<td>04 secs</td></tr>\n",
              "<tr><td>H2O_cluster_timezone:</td>\n",
              "<td>Etc/UTC</td></tr>\n",
              "<tr><td>H2O_data_parsing_timezone:</td>\n",
              "<td>UTC</td></tr>\n",
              "<tr><td>H2O_cluster_version:</td>\n",
              "<td>3.40.0.4</td></tr>\n",
              "<tr><td>H2O_cluster_version_age:</td>\n",
              "<td>1 month and 23 days</td></tr>\n",
              "<tr><td>H2O_cluster_name:</td>\n",
              "<td>H2O_from_python_unknownUser_s6bhyq</td></tr>\n",
              "<tr><td>H2O_cluster_total_nodes:</td>\n",
              "<td>1</td></tr>\n",
              "<tr><td>H2O_cluster_free_memory:</td>\n",
              "<td>2 Gb</td></tr>\n",
              "<tr><td>H2O_cluster_total_cores:</td>\n",
              "<td>2</td></tr>\n",
              "<tr><td>H2O_cluster_allowed_cores:</td>\n",
              "<td>2</td></tr>\n",
              "<tr><td>H2O_cluster_status:</td>\n",
              "<td>locked, healthy</td></tr>\n",
              "<tr><td>H2O_connection_url:</td>\n",
              "<td>http://127.0.0.1:54321</td></tr>\n",
              "<tr><td>H2O_connection_proxy:</td>\n",
              "<td>{\"http\": null, \"https\": null, \"colab_language_server\": \"/usr/colab/bin/language_service\"}</td></tr>\n",
              "<tr><td>H2O_internal_security:</td>\n",
              "<td>False</td></tr>\n",
              "<tr><td>Python_version:</td>\n",
              "<td>3.10.12 final</td></tr></tbody>\n",
              "  </table>\n",
              "</div>\n"
            ]
          },
          "metadata": {}
        }
      ],
      "source": [
        "# !pip install interpret\n",
        "!pip install h2o\n",
        "import h2o                                                        # h2o python library\n",
        "from h2o.backend import H2OLocalServer                            # for model extraction\n",
        "from h2o.estimators.random_forest import H2ORandomForestEstimator # for decision tree in model extraction\n",
        "from interpret.glassbox import ExplainableBoostingClassifier      # interpret ebm class\n",
        "from interpret.perf import ROC                                    # ROC measure for ebm\n",
        "import matplotlib.pyplot as plt                                   # for plots\n",
        "import numpy as np                                                # for basic array manipulation\n",
        "import pandas as pd                                               # for dataframe manipulation\n",
        "import subprocess                                                 # to run external processes for model extraction\n",
        "import time                                                       # for timers\n",
        "\n",
        "# enables display of images in notebook\n",
        "from IPython.display import Image\n",
        "from IPython.display import display\n",
        "\n",
        "# set numpy random seed for better reproducibility\n",
        "SEED = 12345\n",
        "np.random.seed(SEED)\n",
        "\n",
        "# set number of threads\n",
        "NTHREAD = 4\n",
        "\n",
        "h2o.init(max_mem_size='2G')      # start h2o\n",
        "h2o.remove_all()                 # remove any existing data structures from h2o memory\n",
        "h2o.no_progress()                # turn off h2o progress indicators\n",
        "\n",
        "\n",
        "import warnings\n",
        "warnings.filterwarnings('ignore')"
      ]
    },
    {
      "cell_type": "markdown",
      "source": [
        "## Define Utility Functions\n",
        "\n",
        "Utility function that trains a cross-validated decision tree"
      ],
      "metadata": {
        "id": "Km3TOzlQ18Gg"
      }
    },
    {
      "cell_type": "code",
      "source": [
        "def get_cv_dt(x_names, y_name, train, model_id, seed_, title, valid=None):\n",
        "\n",
        "    \"\"\" Utility function to train decision trees.\n",
        "    Args:\n",
        "        x_names: Names of input variables as a list.\n",
        "        y_name: Name of target variable.\n",
        "        train: Pandas DataFrame containing x_names and y_name on which to train\n",
        "               decision tree.\n",
        "        model_id: h2o model identifier.\n",
        "        seed_: Random seed for improved reproducibility.\n",
        "        title: Title for generated plot of tree.\n",
        "        valid: Optional validation data.\n",
        "    Returns:\n",
        "        Model as h2o model object.\n",
        "    \"\"\"\n",
        "\n",
        "    # initialize single tree model\n",
        "    tree = H2ORandomForestEstimator(ntrees=1,  # use only one tree\n",
        "                                    sample_rate=1,  # use all rows in that tree\n",
        "                                    mtries=-2,  # use all columns in that tree's split search\n",
        "                                    max_depth=4,  # shallow trees are easier to understand\n",
        "                                    seed=seed_,  # set random seed for reproducibility\n",
        "                                    nfolds=3,  # cross-validation for stability and ...\n",
        "                                    # only way to get metrics for 1 tree in h2o\n",
        "                                    model_id=model_id)  # gives MOJO artifact a recognizable name\n",
        "\n",
        "    # train single tree model\n",
        "    if valid is not None:\n",
        "        tree.train(x=x_names, y=y_name, training_frame=h2o.H2OFrame(train), validation_frame=h2o.H2OFrame(valid))\n",
        "    else:\n",
        "        tree.train(x=x_names, y=y_name, training_frame=h2o.H2OFrame(train))\n",
        "\n",
        "    # persist MOJO (compiled Java representation of trained model)\n",
        "    # from which to generate plot of tree\n",
        "    mojo_path = tree.download_mojo(path='.')\n",
        "    print('Generated MOJO path:\\n', mojo_path)\n",
        "\n",
        "    # generate graphviz file and then PNG\n",
        "    get_gv(title, model_id, mojo_path)\n",
        "    get_png(model_id)\n",
        "\n",
        "    return tree"
      ],
      "metadata": {
        "id": "fRSs80RP1_A6"
      },
      "execution_count": 30,
      "outputs": []
    },
    {
      "cell_type": "markdown",
      "source": [
        "### Utility function that converts h2o MOJO into graphviz file"
      ],
      "metadata": {
        "id": "64soHqYv2FrC"
      }
    },
    {
      "cell_type": "code",
      "source": [
        "def get_gv(title, model_id, mojo_path):\n",
        "\n",
        "    \"\"\" Utility function to generate graphviz dot file from h2o MOJO using\n",
        "        a subprocess.\n",
        "\n",
        "    Args:\n",
        "        title: Title for displayed decision tree.\n",
        "        model_id: h2o model identifier.\n",
        "        mojo_path: Path to saved model MOJO (Java scoring artifact);\n",
        "                   generated by train_cv_dt function above.\n",
        "    \"\"\"\n",
        "\n",
        "    # locate h2o jar\n",
        "    hs = H2OLocalServer()\n",
        "    h2o_jar_path = hs._find_jar()\n",
        "    print('Discovered H2O jar path:\\n', h2o_jar_path)\n",
        "\n",
        "    # construct command line call to generate graphviz version of\n",
        "    # tree, see for more information:\n",
        "    # http://docs.h2o.ai/h2o/latest-stable/h2o-genmodel/javadoc/index.html\n",
        "    gv_file_name = model_id + '.gv'\n",
        "    # if the line below fails for you, try instead:\n",
        "    #gv_args = str('-cp ' + h2o_jar_path +\n",
        "    #              ' hex.genmodel.tools.PrintMojo --tree 0 -i \"'\n",
        "    #              + mojo_path + '\" -o').split()\n",
        "    gv_args = str('-cp ' + h2o_jar_path +\n",
        "                  ' hex.genmodel.tools.PrintMojo --tree 0 -i '\n",
        "                  + mojo_path + ' -o').split()\n",
        "    gv_args.insert(0, 'java')\n",
        "    gv_args.append(gv_file_name)\n",
        "    if title is not None:\n",
        "        gv_args = gv_args + ['--title', '\"' + str(title) + '\"']\n",
        "\n",
        "    # call constructed command\n",
        "    print()\n",
        "    print('Calling external process ...')\n",
        "    print(' '.join(gv_args))\n",
        "    # if the line below is failing for you, try instead:\n",
        "    # _ = subprocess.call(gv_args, shell=True)\n",
        "    _ = subprocess.call(gv_args)"
      ],
      "metadata": {
        "id": "eJuNzU6W2Iks"
      },
      "execution_count": 31,
      "outputs": []
    },
    {
      "cell_type": "markdown",
      "source": [
        "### Utility function that converts graphviz file into PNG"
      ],
      "metadata": {
        "id": "YnJBkU5C2OKp"
      }
    },
    {
      "cell_type": "code",
      "source": [
        "def get_png(model_id):\n",
        "\n",
        "    \"\"\" Utility function to generate PNGs from .dots using a subprocess.\n",
        "    Arg:\n",
        "        model_id: h2o model identifier.\n",
        "    \"\"\"\n",
        "\n",
        "    gv_file_name = model_id + '.gv'\n",
        "\n",
        "    # construct call to generate PNG from\n",
        "    # graphviz representation of the tree\n",
        "    png_file_name = model_id + '.png'\n",
        "    png_args = str('dot -Tpng ' + gv_file_name + ' -o ' + png_file_name)\n",
        "    png_args = png_args.split()\n",
        "\n",
        "    # call\n",
        "    print('Calling external process ...')\n",
        "    print(' '.join(png_args))\n",
        "    # if the line below is failing for you, try instead:\n",
        "    # _ = subprocess.call(png_args, shell=True)\n",
        "    _ = subprocess.call(png_args)"
      ],
      "metadata": {
        "id": "9NLlfnn12RaJ"
      },
      "execution_count": 32,
      "outputs": []
    },
    {
      "cell_type": "markdown",
      "source": [
        "### Start global timer"
      ],
      "metadata": {
        "id": "lyPJ0QnH2VZU"
      }
    },
    {
      "cell_type": "code",
      "source": [
        "tic = time.time()\n"
      ],
      "metadata": {
        "id": "z2I3YvBn2Xdt"
      },
      "execution_count": 33,
      "outputs": []
    },
    {
      "cell_type": "markdown",
      "source": [
        "### Import data"
      ],
      "metadata": {
        "id": "DJnQGgBA2ZdZ"
      }
    },
    {
      "cell_type": "code",
      "source": [
        "from google.colab import drive\n",
        "drive.mount('/content/drive')"
      ],
      "metadata": {
        "colab": {
          "base_uri": "https://localhost:8080/"
        },
        "id": "JftOBZqk2kmj",
        "outputId": "25096721-e507-4bce-e263-04a635a7f11a"
      },
      "execution_count": 34,
      "outputs": [
        {
          "output_type": "stream",
          "name": "stdout",
          "text": [
            "Drive already mounted at /content/drive; to attempt to forcibly remount, call drive.mount(\"/content/drive\", force_remount=True).\n"
          ]
        }
      ]
    },
    {
      "cell_type": "code",
      "source": [
        "data = pd.read_csv('/content/drive/MyDrive/RML/hmda_train_preprocessed.csv')\n"
      ],
      "metadata": {
        "id": "U0oKVWOf2rCl"
      },
      "execution_count": 35,
      "outputs": []
    },
    {
      "cell_type": "markdown",
      "source": [
        "### Assign basic modeling roles"
      ],
      "metadata": {
        "id": "GmzruJQk2uRa"
      }
    },
    {
      "cell_type": "code",
      "source": [
        "y_name = 'high_priced'\n"
      ],
      "metadata": {
        "id": "fFaGhwTT2xHF"
      },
      "execution_count": 36,
      "outputs": []
    },
    {
      "cell_type": "markdown",
      "source": [
        "## Fit interpretable model\n",
        "Split data into train and validation partitions"
      ],
      "metadata": {
        "id": "y-Qy-iUQ2z1p"
      }
    },
    {
      "cell_type": "code",
      "source": [
        "np.random.seed(SEED) # preserve exact reproducibility for this cell\n",
        "\n",
        "split_ratio = 0.7 # 70%/30% train/test split\n",
        "\n",
        "# execute split\n",
        "split = np.random.rand(len(data)) < split_ratio\n",
        "train = data[split]\n",
        "valid = data[~split]\n",
        "\n",
        "# summarize split\n",
        "print('Train data rows = %d, columns = %d' % (train.shape[0], train.shape[1]))\n",
        "print('Validation data rows = %d, columns = %d' % (valid.shape[0], valid.shape[1]))\n",
        "\n",
        "# benchmark - Train data rows = 112253, columns = 23\n",
        "# benchmark - Validation data rows = 48085, columns = 23"
      ],
      "metadata": {
        "colab": {
          "base_uri": "https://localhost:8080/"
        },
        "id": "jHyd5c7e23ov",
        "outputId": "4f02baa0-a55a-4295-c525-59b99d532411"
      },
      "execution_count": 37,
      "outputs": [
        {
          "output_type": "stream",
          "name": "stdout",
          "text": [
            "Train data rows = 112253, columns = 23\n",
            "Validation data rows = 48085, columns = 23\n"
          ]
        }
      ]
    },
    {
      "cell_type": "markdown",
      "source": [
        "## Explainable Boosting Machine\n",
        "Retrain most accurate model above 0.8 AIR to act as blackbox prediction API"
      ],
      "metadata": {
        "id": "XgHM4c2P273a"
      }
    },
    {
      "cell_type": "code",
      "source": [
        "# params dict for remediated models\n",
        "rem_params = {'max_bins': 512,\n",
        "              'max_interaction_bins': 16,\n",
        "              'interactions': 10,\n",
        "              'outer_bags': 4,\n",
        "              'inner_bags': 0,\n",
        "              'learning_rate': 0.001,\n",
        "              'validation_size': 0.25,\n",
        "              'min_samples_leaf': 5,\n",
        "              'max_leaves': 5,\n",
        "              'early_stopping_rounds': 100.0,\n",
        "              'n_jobs': NTHREAD,\n",
        "              'random_state': SEED}\n",
        "\n",
        "rem_x_names = ['property_value_std',\n",
        "               'no_intro_rate_period_std',\n",
        "               'loan_amount_std',\n",
        "               'income_std',\n",
        "               'conforming',\n",
        "               'intro_rate_period_std',\n",
        "               'debt_to_income_ratio_std',\n",
        "               'term_360']\n",
        "\n",
        "# retrain\n",
        "rem_ebm = ExplainableBoostingClassifier(**rem_params)\n",
        "rem_ebm.fit(train[rem_x_names], train[y_name])\n",
        "rem_ebm_perf = ROC(rem_ebm.predict_proba).explain_perf(valid[rem_x_names], valid[y_name])\n",
        "rem_auc = rem_ebm_perf._internal_obj['overall']['auc']\n",
        "print('Remediated EBM retrained with AUC: %.4f.' % rem_auc)"
      ],
      "metadata": {
        "colab": {
          "base_uri": "https://localhost:8080/"
        },
        "id": "nqrIV8Lo3CIe",
        "outputId": "6b6bf6d2-0857-4542-81a1-72fa0e2556e8"
      },
      "execution_count": 38,
      "outputs": [
        {
          "output_type": "stream",
          "name": "stdout",
          "text": [
            "Remediated EBM retrained with AUC: 0.7876.\n"
          ]
        }
      ]
    },
    {
      "cell_type": "markdown",
      "source": [
        "## Model Extraction Attack\n",
        "### Generate synthetic data for extraction attack\n",
        "For an API or model to be usable by customers or others, the system documentation must contain basic information about expected input variables. Between that information, domain knowledge, and publicly available information, an attacker can make a good guess at what the input data should look like."
      ],
      "metadata": {
        "id": "sWpG7LQN3Mfp"
      }
    },
    {
      "cell_type": "code",
      "source": [
        "# best guess at feature distributions\n",
        "schema_dict = {'term_360':                     {'p': 0.9, 'dist': 'binomial'},\n",
        "               'conforming':                   {'p': 0.9, 'dist': 'binomial'},\n",
        "               'no_intro_rate_period_std':     {'p': 0.1, 'dist': 'binomial'},\n",
        "               'loan_amount_std':              {'min': -5, 'scale': 10, 'dist': 'exponential'},\n",
        "               'intro_rate_period_std':        {'min': 0, 'scale': 2, 'dist': 'exponential'},\n",
        "               'property_value_std':           {'min': -5, 'scale': 5, 'dist': 'exponential'},\n",
        "               'income_std':                   {'min': -5, 'scale': 25, 'dist': 'exponential'},\n",
        "               'debt_to_income_ratio_std':     {'mean': 1, 'scale': 1, 'dist': 'normal'}}\n",
        "\n",
        "N = 10000 # rows of simulated data\n",
        "\n",
        "random_frame = pd.DataFrame(columns=list(schema_dict.keys())) # init empty frame\n",
        "\n",
        "np.random.seed(SEED) # same results each time cell is run\n",
        "\n",
        "for j in list(schema_dict.keys()): # loop through features\n",
        "\n",
        "    # simulate normal features\n",
        "    if schema_dict[j]['dist'] == 'normal':\n",
        "        random_frame[j] = np.random.normal(loc=schema_dict[j]['mean'],\n",
        "                                           scale=schema_dict[j]['scale'],\n",
        "                                           size=N)\n",
        "\n",
        "    # simulate expontential features\n",
        "    if schema_dict[j]['dist'] == 'exponential':\n",
        "        random_frame[j] = schema_dict[j]['min'] + np.random.exponential(scale=schema_dict[j]['scale'],\n",
        "                                                                        size=N)\n",
        "\n",
        "    # simulate binomial features\n",
        "    if schema_dict[j]['dist'] == 'binomial':\n",
        "        random_frame[j] = np.random.binomial(1, schema_dict[j]['p'], N)\n",
        "\n",
        "# make up for no_intro_rate_period_std scale shift\n",
        "random_frame['no_intro_rate_period_std'] = -4 * random_frame['no_intro_rate_period_std']"
      ],
      "metadata": {
        "id": "FdmaNPZb3QpP"
      },
      "execution_count": 40,
      "outputs": []
    },
    {
      "cell_type": "markdown",
      "source": [
        "##Visualize simulated data"
      ],
      "metadata": {
        "id": "xpCPSBfU31mD"
      }
    },
    {
      "cell_type": "code",
      "source": [
        "_ = random_frame[rem_x_names].hist(bins=50, figsize=(15, 15))"
      ],
      "metadata": {
        "colab": {
          "base_uri": "https://localhost:8080/",
          "height": 1000
        },
        "id": "qwM6ualX34si",
        "outputId": "7a4f1ae8-6e9f-4f17-e39b-3b4d0f2be9a8"
      },
      "execution_count": 41,
      "outputs": [
        {
          "output_type": "display_data",
          "data": {
            "text/plain": [
              "<Figure size 1500x1500 with 9 Axes>"
            ],
            "image/png": "[encoded data removed]"
          },
          "metadata": {}
        }
      ]
    },
    {
      "cell_type": "markdown",
      "source": [
        "### First call to blackbox model for predictions on random data"
      ],
      "metadata": {
        "id": "Z5PH64OG3-RJ"
      }
    },
    {
      "cell_type": "code",
      "source": [
        "blackbox_phat = pd.DataFrame(rem_ebm.predict_proba(random_frame[rem_x_names])[:, 1], columns=['phat'])\n",
        "blackbox_phat = pd.concat([random_frame.reset_index(drop=True), blackbox_phat], axis=1)\n",
        "blackbox_phat.head()"
      ],
      "metadata": {
        "colab": {
          "base_uri": "https://localhost:8080/",
          "height": 270
        },
        "id": "7YyNMfRk3_7Q",
        "outputId": "739d30b0-a9a6-4308-ee71-7d796d1c878f"
      },
      "execution_count": 42,
      "outputs": [
        {
          "output_type": "execute_result",
          "data": {
            "text/plain": [
              "   term_360  conforming  no_intro_rate_period_std  loan_amount_std  \\\n",
              "0         0           1                         0         7.848707   \n",
              "1         1           1                        -4        49.480298   \n",
              "2         1           1                         0         0.014153   \n",
              "3         1           1                         0         7.912400   \n",
              "4         1           1                         0        -4.538403   \n",
              "\n",
              "   intro_rate_period_std  property_value_std  income_std  \\\n",
              "0               2.018107            4.448038    7.560986   \n",
              "1               1.029955            4.580346   -1.530707   \n",
              "2               2.853882            8.899881   13.705550   \n",
              "3               0.248822            8.887287    1.895881   \n",
              "4               1.796115           -2.252657   27.529353   \n",
              "\n",
              "   debt_to_income_ratio_std      phat  \n",
              "0                  2.346077  0.043727  \n",
              "1                  0.239296  0.039787  \n",
              "2                  0.639075  0.014228  \n",
              "3                  0.087230  0.019649  \n",
              "4                  1.263036  0.172945  "
            ],
            "text/html": [
              "\n",
              "  <div id=\"df-4af7f9f8-4e8b-45d3-b5a1-f74a9c939a57\">\n",
              "    <div class=\"colab-df-container\">\n",
              "      <div>\n",
              "<style scoped>\n",
              "    .dataframe tbody tr th:only-of-type {\n",
              "        vertical-align: middle;\n",
              "    }\n",
              "\n",
              "    .dataframe tbody tr th {\n",
              "        vertical-align: top;\n",
              "    }\n",
              "\n",
              "    .dataframe thead th {\n",
              "        text-align: right;\n",
              "    }\n",
              "</style>\n",
              "<table border=\"1\" class=\"dataframe\">\n",
              "  <thead>\n",
              "    <tr style=\"text-align: right;\">\n",
              "      <th></th>\n",
              "      <th>term_360</th>\n",
              "      <th>conforming</th>\n",
              "      <th>no_intro_rate_period_std</th>\n",
              "      <th>loan_amount_std</th>\n",
              "      <th>intro_rate_period_std</th>\n",
              "      <th>property_value_std</th>\n",
              "      <th>income_std</th>\n",
              "      <th>debt_to_income_ratio_std</th>\n",
              "      <th>phat</th>\n",
              "    </tr>\n",
              "  </thead>\n",
              "  <tbody>\n",
              "    <tr>\n",
              "      <th>0</th>\n",
              "      <td>0</td>\n",
              "      <td>1</td>\n",
              "      <td>0</td>\n",
              "      <td>7.848707</td>\n",
              "      <td>2.018107</td>\n",
              "      <td>4.448038</td>\n",
              "      <td>7.560986</td>\n",
              "      <td>2.346077</td>\n",
              "      <td>0.043727</td>\n",
              "    </tr>\n",
              "    <tr>\n",
              "      <th>1</th>\n",
              "      <td>1</td>\n",
              "      <td>1</td>\n",
              "      <td>-4</td>\n",
              "      <td>49.480298</td>\n",
              "      <td>1.029955</td>\n",
              "      <td>4.580346</td>\n",
              "      <td>-1.530707</td>\n",
              "      <td>0.239296</td>\n",
              "      <td>0.039787</td>\n",
              "    </tr>\n",
              "    <tr>\n",
              "      <th>2</th>\n",
              "      <td>1</td>\n",
              "      <td>1</td>\n",
              "      <td>0</td>\n",
              "      <td>0.014153</td>\n",
              "      <td>2.853882</td>\n",
              "      <td>8.899881</td>\n",
              "      <td>13.705550</td>\n",
              "      <td>0.639075</td>\n",
              "      <td>0.014228</td>\n",
              "    </tr>\n",
              "    <tr>\n",
              "      <th>3</th>\n",
              "      <td>1</td>\n",
              "      <td>1</td>\n",
              "      <td>0</td>\n",
              "      <td>7.912400</td>\n",
              "      <td>0.248822</td>\n",
              "      <td>8.887287</td>\n",
              "      <td>1.895881</td>\n",
              "      <td>0.087230</td>\n",
              "      <td>0.019649</td>\n",
              "    </tr>\n",
              "    <tr>\n",
              "      <th>4</th>\n",
              "      <td>1</td>\n",
              "      <td>1</td>\n",
              "      <td>0</td>\n",
              "      <td>-4.538403</td>\n",
              "      <td>1.796115</td>\n",
              "      <td>-2.252657</td>\n",
              "      <td>27.529353</td>\n",
              "      <td>1.263036</td>\n",
              "      <td>0.172945</td>\n",
              "    </tr>\n",
              "  </tbody>\n",
              "</table>\n",
              "</div>\n",
              "      <button class=\"colab-df-convert\" onclick=\"convertToInteractive('df-4af7f9f8-4e8b-45d3-b5a1-f74a9c939a57')\"\n",
              "              title=\"Convert this dataframe to an interactive table.\"\n",
              "              style=\"display:none;\">\n",
              "        \n",
              "  <svg xmlns=\"http://www.w3.org/2000/svg\" height=\"24px\"viewBox=\"0 0 24 24\"\n",
              "       width=\"24px\">\n",
              "    <path d=\"M0 0h24v24H0V0z\" fill=\"none\"/>\n",
              "    <path d=\"M18.56 5.44l.94 2.06.94-2.06 2.06-.94-2.06-.94-.94-2.06-.94 2.06-2.06.94zm-11 1L8.5 8.5l.94-2.06 2.06-.94-2.06-.94L8.5 2.5l-.94 2.06-2.06.94zm10 10l.94 2.06.94-2.06 2.06-.94-2.06-.94-.94-2.06-.94 2.06-2.06.94z\"/><path d=\"M17.41 7.96l-1.37-1.37c-.4-.4-.92-.59-1.43-.59-.52 0-1.04.2-1.43.59L10.3 9.45l-7.72 7.72c-.78.78-.78 2.05 0 2.83L4 21.41c.39.39.9.59 1.41.59.51 0 1.02-.2 1.41-.59l7.78-7.78 2.81-2.81c.8-.78.8-2.07 0-2.86zM5.41 20L4 18.59l7.72-7.72 1.47 1.35L5.41 20z\"/>\n",
              "  </svg>\n",
              "      </button>\n",
              "      \n",
              "  <style>\n",
              "    .colab-df-container {\n",
              "      display:flex;\n",
              "      flex-wrap:wrap;\n",
              "      gap: 12px;\n",
              "    }\n",
              "\n",
              "    .colab-df-convert {\n",
              "      background-color: #E8F0FE;\n",
              "      border: none;\n",
              "      border-radius: 50%;\n",
              "      cursor: pointer;\n",
              "      display: none;\n",
              "      fill: #1967D2;\n",
              "      height: 32px;\n",
              "      padding: 0 0 0 0;\n",
              "      width: 32px;\n",
              "    }\n",
              "\n",
              "    .colab-df-convert:hover {\n",
              "      background-color: #E2EBFA;\n",
              "      box-shadow: 0px 1px 2px rgba(60, 64, 67, 0.3), 0px 1px 3px 1px rgba(60, 64, 67, 0.15);\n",
              "      fill: #174EA6;\n",
              "    }\n",
              "\n",
              "    [theme=dark] .colab-df-convert {\n",
              "      background-color: #3B4455;\n",
              "      fill: #D2E3FC;\n",
              "    }\n",
              "\n",
              "    [theme=dark] .colab-df-convert:hover {\n",
              "      background-color: #434B5C;\n",
              "      box-shadow: 0px 1px 3px 1px rgba(0, 0, 0, 0.15);\n",
              "      filter: drop-shadow(0px 1px 2px rgba(0, 0, 0, 0.3));\n",
              "      fill: #FFFFFF;\n",
              "    }\n",
              "  </style>\n",
              "\n",
              "      <script>\n",
              "        const buttonEl =\n",
              "          document.querySelector('#df-4af7f9f8-4e8b-45d3-b5a1-f74a9c939a57 button.colab-df-convert');\n",
              "        buttonEl.style.display =\n",
              "          google.colab.kernel.accessAllowed ? 'block' : 'none';\n",
              "\n",
              "        async function convertToInteractive(key) {\n",
              "          const element = document.querySelector('#df-4af7f9f8-4e8b-45d3-b5a1-f74a9c939a57');\n",
              "          const dataTable =\n",
              "            await google.colab.kernel.invokeFunction('convertToInteractive',\n",
              "                                                     [key], {});\n",
              "          if (!dataTable) return;\n",
              "\n",
              "          const docLinkHtml = 'Like what you see? Visit the ' +\n",
              "            '<a target=\"_blank\" href=https://colab.research.google.com/notebooks/data_table.ipynb>data table notebook</a>'\n",
              "            + ' to learn more about interactive tables.';\n",
              "          element.innerHTML = '';\n",
              "          dataTable['output_type'] = 'display_data';\n",
              "          await google.colab.output.renderOutput(dataTable, element);\n",
              "          const docLink = document.createElement('div');\n",
              "          docLink.innerHTML = docLinkHtml;\n",
              "          element.appendChild(docLink);\n",
              "        }\n",
              "      </script>\n",
              "    </div>\n",
              "  </div>\n",
              "  "
            ]
          },
          "metadata": {},
          "execution_count": 42
        }
      ]
    },
    {
      "cell_type": "markdown",
      "source": [
        "### Extract a stolen decision tree model"
      ],
      "metadata": {
        "id": "5B5AWOBQ4DuZ"
      }
    },
    {
      "cell_type": "code",
      "source": [
        "stolen_dt = get_cv_dt(list(schema_dict.keys()),\n",
        "                      'phat',\n",
        "                      blackbox_phat,\n",
        "                      'stolen_dt',\n",
        "                      SEED,\n",
        "                      'Stolen Model')"
      ],
      "metadata": {
        "colab": {
          "base_uri": "https://localhost:8080/"
        },
        "id": "0zTDxgTf4Fqt",
        "outputId": "42760499-6067-4245-c5b4-2d492fa4dbac"
      },
      "execution_count": 43,
      "outputs": [
        {
          "output_type": "stream",
          "name": "stdout",
          "text": [
            "Generated MOJO path:\n",
            " /content/stolen_dt.zip\n",
            "Discovered H2O jar path:\n",
            " /usr/local/lib/python3.10/dist-packages/h2o/backend/bin/h2o.jar\n",
            "\n",
            "Calling external process ...\n",
            "java -cp /usr/local/lib/python3.10/dist-packages/h2o/backend/bin/h2o.jar hex.genmodel.tools.PrintMojo --tree 0 -i /content/stolen_dt.zip -o stolen_dt.gv --title \"Stolen Model\"\n",
            "Calling external process ...\n",
            "dot -Tpng stolen_dt.gv -o stolen_dt.png\n"
          ]
        }
      ]
    },
    {
      "cell_type": "markdown",
      "source": [
        "### View stolen model"
      ],
      "metadata": {
        "id": "PGofwAmU4Js4"
      }
    },
    {
      "cell_type": "code",
      "source": [
        "display(Image(('stolen_dt.png')))\n",
        "# if this is failing, you may need graphviz\n",
        "# on Colab or linux, install with:\n",
        "# \"!apt-get install graphviz\" (inside notebook)\n",
        "# \"apt-get install graphviz\" (outside notebook)\n",
        "# on mac, install with:\n",
        "# \"!brew install graphviz\" (inside notebook)\n",
        "# \"brew install graphviz\" (outside notebook)"
      ],
      "metadata": {
        "colab": {
          "base_uri": "https://localhost:8080/",
          "height": 328
        },
        "id": "4yj7CKZn4LJ2",
        "outputId": "840f314e-82bc-4ff5-f08f-f0dfda35c756"
      },
      "execution_count": 44,
      "outputs": [
        {
          "output_type": "display_data",
          "data": {
            "image/png": "[encoded data removed]",
            "text/plain": [
              "<IPython.core.display.Image object>"
            ]
          },
          "metadata": {}
        }
      ]
    },
    {
      "cell_type": "markdown",
      "source": [
        "Now an attacker has a basic flow chart for how the EBM works. This can be used as a sandbox for subsequent attacks!\n",
        "\n"
      ],
      "metadata": {
        "id": "qYBsC-z04S1D"
      }
    },
    {
      "cell_type": "markdown",
      "source": [
        "### Variable importance for stolen model"
      ],
      "metadata": {
        "id": "Hb1WzXLm4VnQ"
      }
    },
    {
      "cell_type": "code",
      "source": [
        "stolen_dt.varimp_plot()"
      ],
      "metadata": {
        "colab": {
          "base_uri": "https://localhost:8080/",
          "height": 821
        },
        "id": "BbTAbo_T4Tu8",
        "outputId": "00f79be2-3547-4526-b53a-3ca7abd3a2b4"
      },
      "execution_count": 45,
      "outputs": [
        {
          "output_type": "display_data",
          "data": {
            "text/plain": [
              "<Figure size 1400x1000 with 1 Axes>"
            ],
            "image/png": "[encoded data removed]"
          },
          "metadata": {}
        },
        {
          "output_type": "execute_result",
          "data": {
            "text/plain": [
              "<h2o.plot._plot_result._MObject at 0x7faa18900550>"
            ]
          },
          "metadata": {},
          "execution_count": 45
        },
        {
          "output_type": "display_data",
          "data": {
            "text/plain": [
              "<Figure size 640x480 with 0 Axes>"
            ]
          },
          "metadata": {}
        }
      ]
    },
    {
      "cell_type": "markdown",
      "source": [
        "These are the most important variables in the stolen model, and likely in the real model too.\n",
        "\n"
      ],
      "metadata": {
        "id": "lNdWVs-44bDo"
      }
    },
    {
      "cell_type": "markdown",
      "source": [
        "### Assess accuracy of stolen model"
      ],
      "metadata": {
        "id": "Q8Hjf-7F4dR4"
      }
    },
    {
      "cell_type": "code",
      "source": [
        "stolen_dt.cross_validation_metrics_summary() # h2o makes cv evaluation metrics available\n"
      ],
      "metadata": {
        "colab": {
          "base_uri": "https://localhost:8080/",
          "height": 236
        },
        "id": "dWkXdIsM4bsg",
        "outputId": "460df0f0-fba9-4bc8-8f06-1a76a5d53392"
      },
      "execution_count": 46,
      "outputs": [
        {
          "output_type": "execute_result",
          "data": {
            "text/plain": [
              "Cross-Validation Metrics Summary: \n",
              "                        mean        sd           cv_1_valid    cv_2_valid    cv_3_valid\n",
              "----------------------  ----------  -----------  ------------  ------------  ------------\n",
              "mae                     0.044482    0.000415165  0.0449107     0.0444536     0.0440818\n",
              "mean_residual_deviance  0.00512287  7.77141e-05  0.0052126     0.00507738    0.00507862\n",
              "mse                     0.00512287  7.77141e-05  0.0052126     0.00507738    0.00507862\n",
              "r2                      0.7939      0.00396686   0.793185      0.790339      0.798176\n",
              "residual_deviance       0.00512287  7.77141e-05  0.0052126     0.00507738    0.00507862\n",
              "rmse                    0.0715729   0.000541719  0.0721983     0.0712558     0.0712644\n",
              "rmsle                   0.056219    0.000467555  0.0566259     0.0563227     0.0557082"
            ],
            "text/html": [
              "\n",
              "<style>\n",
              "\n",
              "#h2o-table-5.h2o-container {\n",
              "  overflow-x: auto;\n",
              "}\n",
              "#h2o-table-5 .h2o-table {\n",
              "  /* width: 100%; */\n",
              "  margin-top: 1em;\n",
              "  margin-bottom: 1em;\n",
              "}\n",
              "#h2o-table-5 .h2o-table caption {\n",
              "  white-space: nowrap;\n",
              "  caption-side: top;\n",
              "  text-align: left;\n",
              "  /* margin-left: 1em; */\n",
              "  margin: 0;\n",
              "  font-size: larger;\n",
              "}\n",
              "#h2o-table-5 .h2o-table thead {\n",
              "  white-space: nowrap; \n",
              "  position: sticky;\n",
              "  top: 0;\n",
              "  box-shadow: 0 -1px inset;\n",
              "}\n",
              "#h2o-table-5 .h2o-table tbody {\n",
              "  overflow: auto;\n",
              "}\n",
              "#h2o-table-5 .h2o-table th,\n",
              "#h2o-table-5 .h2o-table td {\n",
              "  text-align: right;\n",
              "  /* border: 1px solid; */\n",
              "}\n",
              "#h2o-table-5 .h2o-table tr:nth-child(even) {\n",
              "  /* background: #F5F5F5 */\n",
              "}\n",
              "\n",
              "</style>      \n",
              "<div id=\"h2o-table-5\" class=\"h2o-container\">\n",
              "  <table class=\"h2o-table\">\n",
              "    <caption>Cross-Validation Metrics Summary: </caption>\n",
              "    <thead><tr><th></th>\n",
              "<th>mean</th>\n",
              "<th>sd</th>\n",
              "<th>cv_1_valid</th>\n",
              "<th>cv_2_valid</th>\n",
              "<th>cv_3_valid</th></tr></thead>\n",
              "    <tbody><tr><td>mae</td>\n",
              "<td>0.0444820</td>\n",
              "<td>0.0004152</td>\n",
              "<td>0.0449107</td>\n",
              "<td>0.0444536</td>\n",
              "<td>0.0440818</td></tr>\n",
              "<tr><td>mean_residual_deviance</td>\n",
              "<td>0.0051229</td>\n",
              "<td>0.0000777</td>\n",
              "<td>0.0052126</td>\n",
              "<td>0.0050774</td>\n",
              "<td>0.0050786</td></tr>\n",
              "<tr><td>mse</td>\n",
              "<td>0.0051229</td>\n",
              "<td>0.0000777</td>\n",
              "<td>0.0052126</td>\n",
              "<td>0.0050774</td>\n",
              "<td>0.0050786</td></tr>\n",
              "<tr><td>r2</td>\n",
              "<td>0.7938998</td>\n",
              "<td>0.0039669</td>\n",
              "<td>0.7931848</td>\n",
              "<td>0.790339</td>\n",
              "<td>0.7981755</td></tr>\n",
              "<tr><td>residual_deviance</td>\n",
              "<td>0.0051229</td>\n",
              "<td>0.0000777</td>\n",
              "<td>0.0052126</td>\n",
              "<td>0.0050774</td>\n",
              "<td>0.0050786</td></tr>\n",
              "<tr><td>rmse</td>\n",
              "<td>0.0715729</td>\n",
              "<td>0.0005417</td>\n",
              "<td>0.0721983</td>\n",
              "<td>0.0712558</td>\n",
              "<td>0.0712644</td></tr>\n",
              "<tr><td>rmsle</td>\n",
              "<td>0.0562190</td>\n",
              "<td>0.0004676</td>\n",
              "<td>0.0566259</td>\n",
              "<td>0.0563227</td>\n",
              "<td>0.0557082</td></tr></tbody>\n",
              "  </table>\n",
              "</div>\n"
            ]
          },
          "metadata": {},
          "execution_count": 46
        }
      ]
    },
    {
      "cell_type": "markdown",
      "source": [
        "The stolen model is accurate enough (R2=0.79, RMSE=0.07), and importantly, very stable.\n",
        "\n"
      ],
      "metadata": {
        "id": "Ea1UwiCj4lWS"
      }
    },
    {
      "cell_type": "markdown",
      "source": [
        "## Use Stolen Model to Craft Adversarial Examples\n",
        "### Use stolen model to find seed rows for adversary searches\n"
      ],
      "metadata": {
        "id": "gsdcTGaL41A8"
      }
    },
    {
      "cell_type": "code",
      "source": [
        "low_adversary_seed = random_frame.loc[(random_frame['property_value_std'] >= -0.058) &\n",
        "                                      (random_frame['debt_to_income_ratio_std'] < 1.308) &\n",
        "                                      (random_frame['intro_rate_period_std'] >= 2.375), :].mean()\n",
        "print('Low adversarial example search seed row:')\n",
        "print(low_adversary_seed)\n",
        "print()\n",
        "\n",
        "high_adversary_seed = random_frame.loc[(random_frame['property_value_std'] < -0.647) &\n",
        "                                       (random_frame['intro_rate_period_std'] < 2.28) &\n",
        "                                       (random_frame['debt_to_income_ratio_std'] >= 1.3) &\n",
        "                                       (random_frame['term_360'] >= 0.5), :].mean()\n",
        "print('High adversarial example search seed row:')\n",
        "print(high_adversary_seed)\n"
      ],
      "metadata": {
        "colab": {
          "base_uri": "https://localhost:8080/"
        },
        "id": "H6xAmEaC43o-",
        "outputId": "32d56965-01e7-4857-c8d3-8b01e8cbed49"
      },
      "execution_count": 47,
      "outputs": [
        {
          "output_type": "stream",
          "name": "stdout",
          "text": [
            "Low adversarial example search seed row:\n",
            "term_360                     0.907483\n",
            "conforming                   0.895238\n",
            "no_intro_rate_period_std    -0.451701\n",
            "loan_amount_std              4.783837\n",
            "intro_rate_period_std        4.258209\n",
            "property_value_std           5.130546\n",
            "income_std                  19.885581\n",
            "debt_to_income_ratio_std     0.371789\n",
            "dtype: float64\n",
            "\n",
            "High adversarial example search seed row:\n",
            "term_360                     1.000000\n",
            "conforming                   0.889458\n",
            "no_intro_rate_period_std    -0.412884\n",
            "loan_amount_std              5.247810\n",
            "intro_rate_period_std        0.924390\n",
            "property_value_std          -3.060196\n",
            "income_std                  19.735920\n",
            "debt_to_income_ratio_std     1.995180\n",
            "dtype: float64\n"
          ]
        }
      ]
    },
    {
      "cell_type": "markdown",
      "source": [
        "### Perturb seed row to find low scoring adversarial examples"
      ],
      "metadata": {
        "id": "nJjz2kvU478E"
      }
    },
    {
      "cell_type": "code",
      "source": [
        "# init results frames\n",
        "low_adversary_frame = pd.DataFrame(columns=list(schema_dict.keys()))\n",
        "\n",
        "# quantiles over which to search\n",
        "low_quantiles = [0.01, 0.05, 0.1, 0.25, 0.5]\n",
        "high_quantiles = [0.99, 0.95, 0.9, 0.75, 0.5]\n",
        "\n",
        "# generate potential adversarial examples across four important features\n",
        "# using values of each feature and seeded by information from stolen tree\n",
        "for a in list(random_frame['property_value_std'].quantile(high_quantiles)):\n",
        "        for b in list(random_frame['intro_rate_period_std'].quantile(high_quantiles)):\n",
        "            for c in list(random_frame['debt_to_income_ratio_std'].quantile(low_quantiles)):\n",
        "                for d in list(random_frame['term_360'].quantile(low_quantiles)):\n",
        "                    low_adversary_seed['property_value_std'] = a\n",
        "                    low_adversary_seed['intro_rate_period_std'] = b\n",
        "                    low_adversary_seed['debt_to_income_ratio_std'] = c\n",
        "                    low_adversary_seed['term_360'] = d\n",
        "                    low_adversary_frame = low_adversary_frame.append(low_adversary_seed,\n",
        "                                                                     ignore_index=True, sort=False)\n",
        "\n",
        "# view potential low scoring adversarial examples\n",
        "low_adversary_frame.head()"
      ],
      "metadata": {
        "colab": {
          "base_uri": "https://localhost:8080/",
          "height": 270
        },
        "id": "GEoyy9kM4mEV",
        "outputId": "903940d2-46d7-4127-b560-ca981f3e6f69"
      },
      "execution_count": 48,
      "outputs": [
        {
          "output_type": "execute_result",
          "data": {
            "text/plain": [
              "   term_360  conforming  no_intro_rate_period_std  loan_amount_std  \\\n",
              "0       0.0    0.895238                 -0.451701         4.783837   \n",
              "1       0.0    0.895238                 -0.451701         4.783837   \n",
              "2       0.0    0.895238                 -0.451701         4.783837   \n",
              "3       1.0    0.895238                 -0.451701         4.783837   \n",
              "4       1.0    0.895238                 -0.451701         4.783837   \n",
              "\n",
              "   intro_rate_period_std  property_value_std  income_std  \\\n",
              "0                9.06958           18.545693   19.885581   \n",
              "1                9.06958           18.545693   19.885581   \n",
              "2                9.06958           18.545693   19.885581   \n",
              "3                9.06958           18.545693   19.885581   \n",
              "4                9.06958           18.545693   19.885581   \n",
              "\n",
              "   debt_to_income_ratio_std  \n",
              "0                  -1.29433  \n",
              "1                  -1.29433  \n",
              "2                  -1.29433  \n",
              "3                  -1.29433  \n",
              "4                  -1.29433  "
            ],
            "text/html": [
              "\n",
              "  <div id=\"df-49c12270-9d17-4b12-8e2c-c5b84d1a34aa\">\n",
              "    <div class=\"colab-df-container\">\n",
              "      <div>\n",
              "<style scoped>\n",
              "    .dataframe tbody tr th:only-of-type {\n",
              "        vertical-align: middle;\n",
              "    }\n",
              "\n",
              "    .dataframe tbody tr th {\n",
              "        vertical-align: top;\n",
              "    }\n",
              "\n",
              "    .dataframe thead th {\n",
              "        text-align: right;\n",
              "    }\n",
              "</style>\n",
              "<table border=\"1\" class=\"dataframe\">\n",
              "  <thead>\n",
              "    <tr style=\"text-align: right;\">\n",
              "      <th></th>\n",
              "      <th>term_360</th>\n",
              "      <th>conforming</th>\n",
              "      <th>no_intro_rate_period_std</th>\n",
              "      <th>loan_amount_std</th>\n",
              "      <th>intro_rate_period_std</th>\n",
              "      <th>property_value_std</th>\n",
              "      <th>income_std</th>\n",
              "      <th>debt_to_income_ratio_std</th>\n",
              "    </tr>\n",
              "  </thead>\n",
              "  <tbody>\n",
              "    <tr>\n",
              "      <th>0</th>\n",
              "      <td>0.0</td>\n",
              "      <td>0.895238</td>\n",
              "      <td>-0.451701</td>\n",
              "      <td>4.783837</td>\n",
              "      <td>9.06958</td>\n",
              "      <td>18.545693</td>\n",
              "      <td>19.885581</td>\n",
              "      <td>-1.29433</td>\n",
              "    </tr>\n",
              "    <tr>\n",
              "      <th>1</th>\n",
              "      <td>0.0</td>\n",
              "      <td>0.895238</td>\n",
              "      <td>-0.451701</td>\n",
              "      <td>4.783837</td>\n",
              "      <td>9.06958</td>\n",
              "      <td>18.545693</td>\n",
              "      <td>19.885581</td>\n",
              "      <td>-1.29433</td>\n",
              "    </tr>\n",
              "    <tr>\n",
              "      <th>2</th>\n",
              "      <td>0.0</td>\n",
              "      <td>0.895238</td>\n",
              "      <td>-0.451701</td>\n",
              "      <td>4.783837</td>\n",
              "      <td>9.06958</td>\n",
              "      <td>18.545693</td>\n",
              "      <td>19.885581</td>\n",
              "      <td>-1.29433</td>\n",
              "    </tr>\n",
              "    <tr>\n",
              "      <th>3</th>\n",
              "      <td>1.0</td>\n",
              "      <td>0.895238</td>\n",
              "      <td>-0.451701</td>\n",
              "      <td>4.783837</td>\n",
              "      <td>9.06958</td>\n",
              "      <td>18.545693</td>\n",
              "      <td>19.885581</td>\n",
              "      <td>-1.29433</td>\n",
              "    </tr>\n",
              "    <tr>\n",
              "      <th>4</th>\n",
              "      <td>1.0</td>\n",
              "      <td>0.895238</td>\n",
              "      <td>-0.451701</td>\n",
              "      <td>4.783837</td>\n",
              "      <td>9.06958</td>\n",
              "      <td>18.545693</td>\n",
              "      <td>19.885581</td>\n",
              "      <td>-1.29433</td>\n",
              "    </tr>\n",
              "  </tbody>\n",
              "</table>\n",
              "</div>\n",
              "      <button class=\"colab-df-convert\" onclick=\"convertToInteractive('df-49c12270-9d17-4b12-8e2c-c5b84d1a34aa')\"\n",
              "              title=\"Convert this dataframe to an interactive table.\"\n",
              "              style=\"display:none;\">\n",
              "        \n",
              "  <svg xmlns=\"http://www.w3.org/2000/svg\" height=\"24px\"viewBox=\"0 0 24 24\"\n",
              "       width=\"24px\">\n",
              "    <path d=\"M0 0h24v24H0V0z\" fill=\"none\"/>\n",
              "    <path d=\"M18.56 5.44l.94 2.06.94-2.06 2.06-.94-2.06-.94-.94-2.06-.94 2.06-2.06.94zm-11 1L8.5 8.5l.94-2.06 2.06-.94-2.06-.94L8.5 2.5l-.94 2.06-2.06.94zm10 10l.94 2.06.94-2.06 2.06-.94-2.06-.94-.94-2.06-.94 2.06-2.06.94z\"/><path d=\"M17.41 7.96l-1.37-1.37c-.4-.4-.92-.59-1.43-.59-.52 0-1.04.2-1.43.59L10.3 9.45l-7.72 7.72c-.78.78-.78 2.05 0 2.83L4 21.41c.39.39.9.59 1.41.59.51 0 1.02-.2 1.41-.59l7.78-7.78 2.81-2.81c.8-.78.8-2.07 0-2.86zM5.41 20L4 18.59l7.72-7.72 1.47 1.35L5.41 20z\"/>\n",
              "  </svg>\n",
              "      </button>\n",
              "      \n",
              "  <style>\n",
              "    .colab-df-container {\n",
              "      display:flex;\n",
              "      flex-wrap:wrap;\n",
              "      gap: 12px;\n",
              "    }\n",
              "\n",
              "    .colab-df-convert {\n",
              "      background-color: #E8F0FE;\n",
              "      border: none;\n",
              "      border-radius: 50%;\n",
              "      cursor: pointer;\n",
              "      display: none;\n",
              "      fill: #1967D2;\n",
              "      height: 32px;\n",
              "      padding: 0 0 0 0;\n",
              "      width: 32px;\n",
              "    }\n",
              "\n",
              "    .colab-df-convert:hover {\n",
              "      background-color: #E2EBFA;\n",
              "      box-shadow: 0px 1px 2px rgba(60, 64, 67, 0.3), 0px 1px 3px 1px rgba(60, 64, 67, 0.15);\n",
              "      fill: #174EA6;\n",
              "    }\n",
              "\n",
              "    [theme=dark] .colab-df-convert {\n",
              "      background-color: #3B4455;\n",
              "      fill: #D2E3FC;\n",
              "    }\n",
              "\n",
              "    [theme=dark] .colab-df-convert:hover {\n",
              "      background-color: #434B5C;\n",
              "      box-shadow: 0px 1px 3px 1px rgba(0, 0, 0, 0.15);\n",
              "      filter: drop-shadow(0px 1px 2px rgba(0, 0, 0, 0.3));\n",
              "      fill: #FFFFFF;\n",
              "    }\n",
              "  </style>\n",
              "\n",
              "      <script>\n",
              "        const buttonEl =\n",
              "          document.querySelector('#df-49c12270-9d17-4b12-8e2c-c5b84d1a34aa button.colab-df-convert');\n",
              "        buttonEl.style.display =\n",
              "          google.colab.kernel.accessAllowed ? 'block' : 'none';\n",
              "\n",
              "        async function convertToInteractive(key) {\n",
              "          const element = document.querySelector('#df-49c12270-9d17-4b12-8e2c-c5b84d1a34aa');\n",
              "          const dataTable =\n",
              "            await google.colab.kernel.invokeFunction('convertToInteractive',\n",
              "                                                     [key], {});\n",
              "          if (!dataTable) return;\n",
              "\n",
              "          const docLinkHtml = 'Like what you see? Visit the ' +\n",
              "            '<a target=\"_blank\" href=https://colab.research.google.com/notebooks/data_table.ipynb>data table notebook</a>'\n",
              "            + ' to learn more about interactive tables.';\n",
              "          element.innerHTML = '';\n",
              "          dataTable['output_type'] = 'display_data';\n",
              "          await google.colab.output.renderOutput(dataTable, element);\n",
              "          const docLink = document.createElement('div');\n",
              "          docLink.innerHTML = docLinkHtml;\n",
              "          element.appendChild(docLink);\n",
              "        }\n",
              "      </script>\n",
              "    </div>\n",
              "  </div>\n",
              "  "
            ]
          },
          "metadata": {},
          "execution_count": 48
        }
      ]
    },
    {
      "cell_type": "markdown",
      "source": [
        "### Perturb seed row to find high scoring adversarial examples"
      ],
      "metadata": {
        "id": "CaoSn6AF5D94"
      }
    },
    {
      "cell_type": "code",
      "source": [
        "# init results frames\n",
        "high_adversary_frame = pd.DataFrame(columns=list(schema_dict.keys()))\n",
        "\n",
        "# generate potential adversarial examples across four important features\n",
        "# using values of each feature and seeded by information from stolen tree\n",
        "for a in list(random_frame['property_value_std'].quantile(low_quantiles)):\n",
        "        for b in list(random_frame['intro_rate_period_std'].quantile(low_quantiles)):\n",
        "            for c in list(random_frame['debt_to_income_ratio_std'].quantile(high_quantiles)):\n",
        "                for d in list(random_frame['term_360'].quantile(high_quantiles)):\n",
        "                    high_adversary_seed['property_value_std'] = a\n",
        "                    high_adversary_seed['intro_rate_period_std'] = b\n",
        "                    high_adversary_seed['debt_to_income_ratio_std'] = c\n",
        "                    high_adversary_seed['term_360'] = d\n",
        "                    high_adversary_frame = high_adversary_frame.append(high_adversary_seed,\n",
        "                                                                       ignore_index=True, sort=False)\n",
        "\n",
        "# view potential high scoring adversarial examples\n",
        "high_adversary_frame.head()"
      ],
      "metadata": {
        "colab": {
          "base_uri": "https://localhost:8080/",
          "height": 270
        },
        "id": "_UnDeDyQ5GiV",
        "outputId": "122fb65c-cb8c-4959-c16c-c2e88bc5d27f"
      },
      "execution_count": 49,
      "outputs": [
        {
          "output_type": "execute_result",
          "data": {
            "text/plain": [
              "   term_360  conforming  no_intro_rate_period_std  loan_amount_std  \\\n",
              "0       1.0    0.889458                 -0.412884          5.24781   \n",
              "1       1.0    0.889458                 -0.412884          5.24781   \n",
              "2       1.0    0.889458                 -0.412884          5.24781   \n",
              "3       1.0    0.889458                 -0.412884          5.24781   \n",
              "4       1.0    0.889458                 -0.412884          5.24781   \n",
              "\n",
              "   intro_rate_period_std  property_value_std  income_std  \\\n",
              "0               0.018175           -4.946902    19.73592   \n",
              "1               0.018175           -4.946902    19.73592   \n",
              "2               0.018175           -4.946902    19.73592   \n",
              "3               0.018175           -4.946902    19.73592   \n",
              "4               0.018175           -4.946902    19.73592   \n",
              "\n",
              "   debt_to_income_ratio_std  \n",
              "0                  3.322541  \n",
              "1                  3.322541  \n",
              "2                  3.322541  \n",
              "3                  3.322541  \n",
              "4                  3.322541  "
            ],
            "text/html": [
              "\n",
              "  <div id=\"df-00aefbff-1356-428a-936c-e7abe4f9ce6a\">\n",
              "    <div class=\"colab-df-container\">\n",
              "      <div>\n",
              "<style scoped>\n",
              "    .dataframe tbody tr th:only-of-type {\n",
              "        vertical-align: middle;\n",
              "    }\n",
              "\n",
              "    .dataframe tbody tr th {\n",
              "        vertical-align: top;\n",
              "    }\n",
              "\n",
              "    .dataframe thead th {\n",
              "        text-align: right;\n",
              "    }\n",
              "</style>\n",
              "<table border=\"1\" class=\"dataframe\">\n",
              "  <thead>\n",
              "    <tr style=\"text-align: right;\">\n",
              "      <th></th>\n",
              "      <th>term_360</th>\n",
              "      <th>conforming</th>\n",
              "      <th>no_intro_rate_period_std</th>\n",
              "      <th>loan_amount_std</th>\n",
              "      <th>intro_rate_period_std</th>\n",
              "      <th>property_value_std</th>\n",
              "      <th>income_std</th>\n",
              "      <th>debt_to_income_ratio_std</th>\n",
              "    </tr>\n",
              "  </thead>\n",
              "  <tbody>\n",
              "    <tr>\n",
              "      <th>0</th>\n",
              "      <td>1.0</td>\n",
              "      <td>0.889458</td>\n",
              "      <td>-0.412884</td>\n",
              "      <td>5.24781</td>\n",
              "      <td>0.018175</td>\n",
              "      <td>-4.946902</td>\n",
              "      <td>19.73592</td>\n",
              "      <td>3.322541</td>\n",
              "    </tr>\n",
              "    <tr>\n",
              "      <th>1</th>\n",
              "      <td>1.0</td>\n",
              "      <td>0.889458</td>\n",
              "      <td>-0.412884</td>\n",
              "      <td>5.24781</td>\n",
              "      <td>0.018175</td>\n",
              "      <td>-4.946902</td>\n",
              "      <td>19.73592</td>\n",
              "      <td>3.322541</td>\n",
              "    </tr>\n",
              "    <tr>\n",
              "      <th>2</th>\n",
              "      <td>1.0</td>\n",
              "      <td>0.889458</td>\n",
              "      <td>-0.412884</td>\n",
              "      <td>5.24781</td>\n",
              "      <td>0.018175</td>\n",
              "      <td>-4.946902</td>\n",
              "      <td>19.73592</td>\n",
              "      <td>3.322541</td>\n",
              "    </tr>\n",
              "    <tr>\n",
              "      <th>3</th>\n",
              "      <td>1.0</td>\n",
              "      <td>0.889458</td>\n",
              "      <td>-0.412884</td>\n",
              "      <td>5.24781</td>\n",
              "      <td>0.018175</td>\n",
              "      <td>-4.946902</td>\n",
              "      <td>19.73592</td>\n",
              "      <td>3.322541</td>\n",
              "    </tr>\n",
              "    <tr>\n",
              "      <th>4</th>\n",
              "      <td>1.0</td>\n",
              "      <td>0.889458</td>\n",
              "      <td>-0.412884</td>\n",
              "      <td>5.24781</td>\n",
              "      <td>0.018175</td>\n",
              "      <td>-4.946902</td>\n",
              "      <td>19.73592</td>\n",
              "      <td>3.322541</td>\n",
              "    </tr>\n",
              "  </tbody>\n",
              "</table>\n",
              "</div>\n",
              "      <button class=\"colab-df-convert\" onclick=\"convertToInteractive('df-00aefbff-1356-428a-936c-e7abe4f9ce6a')\"\n",
              "              title=\"Convert this dataframe to an interactive table.\"\n",
              "              style=\"display:none;\">\n",
              "        \n",
              "  <svg xmlns=\"http://www.w3.org/2000/svg\" height=\"24px\"viewBox=\"0 0 24 24\"\n",
              "       width=\"24px\">\n",
              "    <path d=\"M0 0h24v24H0V0z\" fill=\"none\"/>\n",
              "    <path d=\"M18.56 5.44l.94 2.06.94-2.06 2.06-.94-2.06-.94-.94-2.06-.94 2.06-2.06.94zm-11 1L8.5 8.5l.94-2.06 2.06-.94-2.06-.94L8.5 2.5l-.94 2.06-2.06.94zm10 10l.94 2.06.94-2.06 2.06-.94-2.06-.94-.94-2.06-.94 2.06-2.06.94z\"/><path d=\"M17.41 7.96l-1.37-1.37c-.4-.4-.92-.59-1.43-.59-.52 0-1.04.2-1.43.59L10.3 9.45l-7.72 7.72c-.78.78-.78 2.05 0 2.83L4 21.41c.39.39.9.59 1.41.59.51 0 1.02-.2 1.41-.59l7.78-7.78 2.81-2.81c.8-.78.8-2.07 0-2.86zM5.41 20L4 18.59l7.72-7.72 1.47 1.35L5.41 20z\"/>\n",
              "  </svg>\n",
              "      </button>\n",
              "      \n",
              "  <style>\n",
              "    .colab-df-container {\n",
              "      display:flex;\n",
              "      flex-wrap:wrap;\n",
              "      gap: 12px;\n",
              "    }\n",
              "\n",
              "    .colab-df-convert {\n",
              "      background-color: #E8F0FE;\n",
              "      border: none;\n",
              "      border-radius: 50%;\n",
              "      cursor: pointer;\n",
              "      display: none;\n",
              "      fill: #1967D2;\n",
              "      height: 32px;\n",
              "      padding: 0 0 0 0;\n",
              "      width: 32px;\n",
              "    }\n",
              "\n",
              "    .colab-df-convert:hover {\n",
              "      background-color: #E2EBFA;\n",
              "      box-shadow: 0px 1px 2px rgba(60, 64, 67, 0.3), 0px 1px 3px 1px rgba(60, 64, 67, 0.15);\n",
              "      fill: #174EA6;\n",
              "    }\n",
              "\n",
              "    [theme=dark] .colab-df-convert {\n",
              "      background-color: #3B4455;\n",
              "      fill: #D2E3FC;\n",
              "    }\n",
              "\n",
              "    [theme=dark] .colab-df-convert:hover {\n",
              "      background-color: #434B5C;\n",
              "      box-shadow: 0px 1px 3px 1px rgba(0, 0, 0, 0.15);\n",
              "      filter: drop-shadow(0px 1px 2px rgba(0, 0, 0, 0.3));\n",
              "      fill: #FFFFFF;\n",
              "    }\n",
              "  </style>\n",
              "\n",
              "      <script>\n",
              "        const buttonEl =\n",
              "          document.querySelector('#df-00aefbff-1356-428a-936c-e7abe4f9ce6a button.colab-df-convert');\n",
              "        buttonEl.style.display =\n",
              "          google.colab.kernel.accessAllowed ? 'block' : 'none';\n",
              "\n",
              "        async function convertToInteractive(key) {\n",
              "          const element = document.querySelector('#df-00aefbff-1356-428a-936c-e7abe4f9ce6a');\n",
              "          const dataTable =\n",
              "            await google.colab.kernel.invokeFunction('convertToInteractive',\n",
              "                                                     [key], {});\n",
              "          if (!dataTable) return;\n",
              "\n",
              "          const docLinkHtml = 'Like what you see? Visit the ' +\n",
              "            '<a target=\"_blank\" href=https://colab.research.google.com/notebooks/data_table.ipynb>data table notebook</a>'\n",
              "            + ' to learn more about interactive tables.';\n",
              "          element.innerHTML = '';\n",
              "          dataTable['output_type'] = 'display_data';\n",
              "          await google.colab.output.renderOutput(dataTable, element);\n",
              "          const docLink = document.createElement('div');\n",
              "          docLink.innerHTML = docLinkHtml;\n",
              "          element.appendChild(docLink);\n",
              "        }\n",
              "      </script>\n",
              "    </div>\n",
              "  </div>\n",
              "  "
            ]
          },
          "metadata": {},
          "execution_count": 49
        }
      ]
    },
    {
      "cell_type": "markdown",
      "source": [
        "### Second call to blackbox API to test adversarial examples"
      ],
      "metadata": {
        "id": "JWdYWqrn5Vzz"
      }
    },
    {
      "cell_type": "code",
      "source": [
        "# combine potential adversaries so only one call to API is needed\n",
        "adversaries = pd.concat([low_adversary_frame, high_adversary_frame], axis=0)\n",
        "\n",
        "# score potential adversarial examples to understand their effect on generated predictions\n",
        "blackbox_adversaries_phat = pd.DataFrame(rem_ebm.predict_proba(adversaries[rem_x_names])[:, 1], columns=['phat'])\n",
        "blackbox_adversaries_phat = pd.concat([adversaries.reset_index(drop=True), blackbox_adversaries_phat], axis=1)\n",
        "blackbox_adversaries_phat.sort_values(by='phat')"
      ],
      "metadata": {
        "colab": {
          "base_uri": "https://localhost:8080/",
          "height": 487
        },
        "id": "FDEXa8M15XYU",
        "outputId": "c58a6bf9-6ce5-46da-9cfd-3be814ad3ea9"
      },
      "execution_count": 50,
      "outputs": [
        {
          "output_type": "execute_result",
          "data": {
            "text/plain": [
              "      term_360  conforming  no_intro_rate_period_std  loan_amount_std  \\\n",
              "0          0.0    0.895238                 -0.451701         4.783837   \n",
              "27         0.0    0.895238                 -0.451701         4.783837   \n",
              "250        0.0    0.895238                 -0.451701         4.783837   \n",
              "251        0.0    0.895238                 -0.451701         4.783837   \n",
              "401        0.0    0.895238                 -0.451701         4.783837   \n",
              "...        ...         ...                       ...              ...   \n",
              "1013       1.0    0.889458                 -0.412884         5.247810   \n",
              "1012       1.0    0.889458                 -0.412884         5.247810   \n",
              "1011       1.0    0.889458                 -0.412884         5.247810   \n",
              "1019       1.0    0.889458                 -0.412884         5.247810   \n",
              "756        1.0    0.889458                 -0.412884         5.247810   \n",
              "\n",
              "      intro_rate_period_std  property_value_std  income_std  \\\n",
              "0                  9.069580           18.545693   19.885581   \n",
              "27                 6.053382           18.545693   19.885581   \n",
              "250                9.069580            6.584122   19.885581   \n",
              "251                9.069580            6.584122   19.885581   \n",
              "401                6.053382            1.851136   19.885581   \n",
              "...                     ...                 ...         ...   \n",
              "1013               0.018175           -3.549113   19.735920   \n",
              "1012               0.018175           -3.549113   19.735920   \n",
              "1011               0.018175           -3.549113   19.735920   \n",
              "1019               0.018175           -3.549113   19.735920   \n",
              "756                0.018175           -4.734405   19.735920   \n",
              "\n",
              "      debt_to_income_ratio_std      phat  \n",
              "0                    -1.294330  0.000109  \n",
              "27                   -1.294330  0.000109  \n",
              "250                  -1.294330  0.000109  \n",
              "251                  -1.294330  0.000109  \n",
              "401                  -1.294330  0.000109  \n",
              "...                        ...       ...  \n",
              "1013                  2.325711  0.442007  \n",
              "1012                  2.325711  0.442007  \n",
              "1011                  2.325711  0.442007  \n",
              "1019                  1.686577  0.442007  \n",
              "756                   2.644875  0.442007  \n",
              "\n",
              "[1250 rows x 9 columns]"
            ],
            "text/html": [
              "\n",
              "  <div id=\"df-f8487627-9840-405d-84b4-7d11c1c46efb\">\n",
              "    <div class=\"colab-df-container\">\n",
              "      <div>\n",
              "<style scoped>\n",
              "    .dataframe tbody tr th:only-of-type {\n",
              "        vertical-align: middle;\n",
              "    }\n",
              "\n",
              "    .dataframe tbody tr th {\n",
              "        vertical-align: top;\n",
              "    }\n",
              "\n",
              "    .dataframe thead th {\n",
              "        text-align: right;\n",
              "    }\n",
              "</style>\n",
              "<table border=\"1\" class=\"dataframe\">\n",
              "  <thead>\n",
              "    <tr style=\"text-align: right;\">\n",
              "      <th></th>\n",
              "      <th>term_360</th>\n",
              "      <th>conforming</th>\n",
              "      <th>no_intro_rate_period_std</th>\n",
              "      <th>loan_amount_std</th>\n",
              "      <th>intro_rate_period_std</th>\n",
              "      <th>property_value_std</th>\n",
              "      <th>income_std</th>\n",
              "      <th>debt_to_income_ratio_std</th>\n",
              "      <th>phat</th>\n",
              "    </tr>\n",
              "  </thead>\n",
              "  <tbody>\n",
              "    <tr>\n",
              "      <th>0</th>\n",
              "      <td>0.0</td>\n",
              "      <td>0.895238</td>\n",
              "      <td>-0.451701</td>\n",
              "      <td>4.783837</td>\n",
              "      <td>9.069580</td>\n",
              "      <td>18.545693</td>\n",
              "      <td>19.885581</td>\n",
              "      <td>-1.294330</td>\n",
              "      <td>0.000109</td>\n",
              "    </tr>\n",
              "    <tr>\n",
              "      <th>27</th>\n",
              "      <td>0.0</td>\n",
              "      <td>0.895238</td>\n",
              "      <td>-0.451701</td>\n",
              "      <td>4.783837</td>\n",
              "      <td>6.053382</td>\n",
              "      <td>18.545693</td>\n",
              "      <td>19.885581</td>\n",
              "      <td>-1.294330</td>\n",
              "      <td>0.000109</td>\n",
              "    </tr>\n",
              "    <tr>\n",
              "      <th>250</th>\n",
              "      <td>0.0</td>\n",
              "      <td>0.895238</td>\n",
              "      <td>-0.451701</td>\n",
              "      <td>4.783837</td>\n",
              "      <td>9.069580</td>\n",
              "      <td>6.584122</td>\n",
              "      <td>19.885581</td>\n",
              "      <td>-1.294330</td>\n",
              "      <td>0.000109</td>\n",
              "    </tr>\n",
              "    <tr>\n",
              "      <th>251</th>\n",
              "      <td>0.0</td>\n",
              "      <td>0.895238</td>\n",
              "      <td>-0.451701</td>\n",
              "      <td>4.783837</td>\n",
              "      <td>9.069580</td>\n",
              "      <td>6.584122</td>\n",
              "      <td>19.885581</td>\n",
              "      <td>-1.294330</td>\n",
              "      <td>0.000109</td>\n",
              "    </tr>\n",
              "    <tr>\n",
              "      <th>401</th>\n",
              "      <td>0.0</td>\n",
              "      <td>0.895238</td>\n",
              "      <td>-0.451701</td>\n",
              "      <td>4.783837</td>\n",
              "      <td>6.053382</td>\n",
              "      <td>1.851136</td>\n",
              "      <td>19.885581</td>\n",
              "      <td>-1.294330</td>\n",
              "      <td>0.000109</td>\n",
              "    </tr>\n",
              "    <tr>\n",
              "      <th>...</th>\n",
              "      <td>...</td>\n",
              "      <td>...</td>\n",
              "      <td>...</td>\n",
              "      <td>...</td>\n",
              "      <td>...</td>\n",
              "      <td>...</td>\n",
              "      <td>...</td>\n",
              "      <td>...</td>\n",
              "      <td>...</td>\n",
              "    </tr>\n",
              "    <tr>\n",
              "      <th>1013</th>\n",
              "      <td>1.0</td>\n",
              "      <td>0.889458</td>\n",
              "      <td>-0.412884</td>\n",
              "      <td>5.247810</td>\n",
              "      <td>0.018175</td>\n",
              "      <td>-3.549113</td>\n",
              "      <td>19.735920</td>\n",
              "      <td>2.325711</td>\n",
              "      <td>0.442007</td>\n",
              "    </tr>\n",
              "    <tr>\n",
              "      <th>1012</th>\n",
              "      <td>1.0</td>\n",
              "      <td>0.889458</td>\n",
              "      <td>-0.412884</td>\n",
              "      <td>5.247810</td>\n",
              "      <td>0.018175</td>\n",
              "      <td>-3.549113</td>\n",
              "      <td>19.735920</td>\n",
              "      <td>2.325711</td>\n",
              "      <td>0.442007</td>\n",
              "    </tr>\n",
              "    <tr>\n",
              "      <th>1011</th>\n",
              "      <td>1.0</td>\n",
              "      <td>0.889458</td>\n",
              "      <td>-0.412884</td>\n",
              "      <td>5.247810</td>\n",
              "      <td>0.018175</td>\n",
              "      <td>-3.549113</td>\n",
              "      <td>19.735920</td>\n",
              "      <td>2.325711</td>\n",
              "      <td>0.442007</td>\n",
              "    </tr>\n",
              "    <tr>\n",
              "      <th>1019</th>\n",
              "      <td>1.0</td>\n",
              "      <td>0.889458</td>\n",
              "      <td>-0.412884</td>\n",
              "      <td>5.247810</td>\n",
              "      <td>0.018175</td>\n",
              "      <td>-3.549113</td>\n",
              "      <td>19.735920</td>\n",
              "      <td>1.686577</td>\n",
              "      <td>0.442007</td>\n",
              "    </tr>\n",
              "    <tr>\n",
              "      <th>756</th>\n",
              "      <td>1.0</td>\n",
              "      <td>0.889458</td>\n",
              "      <td>-0.412884</td>\n",
              "      <td>5.247810</td>\n",
              "      <td>0.018175</td>\n",
              "      <td>-4.734405</td>\n",
              "      <td>19.735920</td>\n",
              "      <td>2.644875</td>\n",
              "      <td>0.442007</td>\n",
              "    </tr>\n",
              "  </tbody>\n",
              "</table>\n",
              "<p>1250 rows × 9 columns</p>\n",
              "</div>\n",
              "      <button class=\"colab-df-convert\" onclick=\"convertToInteractive('df-f8487627-9840-405d-84b4-7d11c1c46efb')\"\n",
              "              title=\"Convert this dataframe to an interactive table.\"\n",
              "              style=\"display:none;\">\n",
              "        \n",
              "  <svg xmlns=\"http://www.w3.org/2000/svg\" height=\"24px\"viewBox=\"0 0 24 24\"\n",
              "       width=\"24px\">\n",
              "    <path d=\"M0 0h24v24H0V0z\" fill=\"none\"/>\n",
              "    <path d=\"M18.56 5.44l.94 2.06.94-2.06 2.06-.94-2.06-.94-.94-2.06-.94 2.06-2.06.94zm-11 1L8.5 8.5l.94-2.06 2.06-.94-2.06-.94L8.5 2.5l-.94 2.06-2.06.94zm10 10l.94 2.06.94-2.06 2.06-.94-2.06-.94-.94-2.06-.94 2.06-2.06.94z\"/><path d=\"M17.41 7.96l-1.37-1.37c-.4-.4-.92-.59-1.43-.59-.52 0-1.04.2-1.43.59L10.3 9.45l-7.72 7.72c-.78.78-.78 2.05 0 2.83L4 21.41c.39.39.9.59 1.41.59.51 0 1.02-.2 1.41-.59l7.78-7.78 2.81-2.81c.8-.78.8-2.07 0-2.86zM5.41 20L4 18.59l7.72-7.72 1.47 1.35L5.41 20z\"/>\n",
              "  </svg>\n",
              "      </button>\n",
              "      \n",
              "  <style>\n",
              "    .colab-df-container {\n",
              "      display:flex;\n",
              "      flex-wrap:wrap;\n",
              "      gap: 12px;\n",
              "    }\n",
              "\n",
              "    .colab-df-convert {\n",
              "      background-color: #E8F0FE;\n",
              "      border: none;\n",
              "      border-radius: 50%;\n",
              "      cursor: pointer;\n",
              "      display: none;\n",
              "      fill: #1967D2;\n",
              "      height: 32px;\n",
              "      padding: 0 0 0 0;\n",
              "      width: 32px;\n",
              "    }\n",
              "\n",
              "    .colab-df-convert:hover {\n",
              "      background-color: #E2EBFA;\n",
              "      box-shadow: 0px 1px 2px rgba(60, 64, 67, 0.3), 0px 1px 3px 1px rgba(60, 64, 67, 0.15);\n",
              "      fill: #174EA6;\n",
              "    }\n",
              "\n",
              "    [theme=dark] .colab-df-convert {\n",
              "      background-color: #3B4455;\n",
              "      fill: #D2E3FC;\n",
              "    }\n",
              "\n",
              "    [theme=dark] .colab-df-convert:hover {\n",
              "      background-color: #434B5C;\n",
              "      box-shadow: 0px 1px 3px 1px rgba(0, 0, 0, 0.15);\n",
              "      filter: drop-shadow(0px 1px 2px rgba(0, 0, 0, 0.3));\n",
              "      fill: #FFFFFF;\n",
              "    }\n",
              "  </style>\n",
              "\n",
              "      <script>\n",
              "        const buttonEl =\n",
              "          document.querySelector('#df-f8487627-9840-405d-84b4-7d11c1c46efb button.colab-df-convert');\n",
              "        buttonEl.style.display =\n",
              "          google.colab.kernel.accessAllowed ? 'block' : 'none';\n",
              "\n",
              "        async function convertToInteractive(key) {\n",
              "          const element = document.querySelector('#df-f8487627-9840-405d-84b4-7d11c1c46efb');\n",
              "          const dataTable =\n",
              "            await google.colab.kernel.invokeFunction('convertToInteractive',\n",
              "                                                     [key], {});\n",
              "          if (!dataTable) return;\n",
              "\n",
              "          const docLinkHtml = 'Like what you see? Visit the ' +\n",
              "            '<a target=\"_blank\" href=https://colab.research.google.com/notebooks/data_table.ipynb>data table notebook</a>'\n",
              "            + ' to learn more about interactive tables.';\n",
              "          element.innerHTML = '';\n",
              "          dataTable['output_type'] = 'display_data';\n",
              "          await google.colab.output.renderOutput(dataTable, element);\n",
              "          const docLink = document.createElement('div');\n",
              "          docLink.innerHTML = docLinkHtml;\n",
              "          element.appendChild(docLink);\n",
              "        }\n",
              "      </script>\n",
              "    </div>\n",
              "  </div>\n",
              "  "
            ]
          },
          "metadata": {},
          "execution_count": 50
        }
      ]
    },
    {
      "cell_type": "markdown",
      "source": [
        "We now have many adversarial examples that can reliably evoke extremely low and high enough predictions from the blackbox API (0.44 is likely above the cutoff for most credit models.). These can most easily be used to falsify a loan application to recieve a low-priced loan (using low adversaries). Or they could be used to ensure someone else recievces a high-priced loan."
      ],
      "metadata": {
        "id": "htObd6vm5c97"
      }
    },
    {
      "cell_type": "markdown",
      "source": [
        "## End timer"
      ],
      "metadata": {
        "id": "2rwslZd75qd9"
      }
    },
    {
      "cell_type": "code",
      "source": [
        "toc = time.time() - tic\n",
        "print('All tasks completed in %.2f s.' % (toc))"
      ],
      "metadata": {
        "colab": {
          "base_uri": "https://localhost:8080/"
        },
        "id": "o1U1jhmJ5sZd",
        "outputId": "8524ce44-ba43-46b5-82da-78f1a3079dc3"
      },
      "execution_count": 51,
      "outputs": [
        {
          "output_type": "stream",
          "name": "stdout",
          "text": [
            "All tasks completed in 266.85 s.\n"
          ]
        }
      ]
    },
    {
      "cell_type": "markdown",
      "source": [
        "### Shutdown H2O"
      ],
      "metadata": {
        "id": "QlyWXIVV5xDa"
      }
    },
    {
      "cell_type": "code",
      "source": [
        "# be careful, this can erase your work!\n",
        "h2o.cluster().shutdown(prompt=True)"
      ],
      "metadata": {
        "colab": {
          "base_uri": "https://localhost:8080/"
        },
        "id": "7-YgG33K5zGP",
        "outputId": "0a6d53f0-9b57-4882-fe9f-8f458716c931"
      },
      "execution_count": 52,
      "outputs": [
        {
          "output_type": "stream",
          "name": "stdout",
          "text": [
            "Are you sure you want to shutdown the H2O instance running at http://127.0.0.1:54321 (Y/N)? y\n",
            "H2O session _sid_b24a closed.\n"
          ]
        }
      ]
    },
    {
      "cell_type": "markdown",
      "source": [],
      "metadata": {
        "id": "adXocIGO7yLf"
      }
    }
  ]
}